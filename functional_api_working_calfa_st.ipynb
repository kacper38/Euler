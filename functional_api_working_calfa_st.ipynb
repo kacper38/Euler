{
  "nbformat": 4,
  "nbformat_minor": 0,
  "metadata": {
    "kernelspec": {
      "display_name": "Python 3",
      "language": "python",
      "name": "python3"
    },
    "language_info": {
      "codemirror_mode": {
        "name": "ipython",
        "version": 3
      },
      "file_extension": ".py",
      "mimetype": "text/x-python",
      "name": "python",
      "nbconvert_exporter": "python",
      "pygments_lexer": "ipython3",
      "version": "3.7.3"
    },
    "colab": {
      "name": "functional_api_working!!.ipynb",
      "provenance": [],
      "toc_visible": true,
      "include_colab_link": true
    },
    "accelerator": "GPU"
  },
  "cells": [
    {
      "cell_type": "markdown",
      "metadata": {
        "id": "view-in-github",
        "colab_type": "text"
      },
      "source": [
        "<a href=\"https://colab.research.google.com/github/kacper38/Euler/blob/master/functional_api_working_calfa_st.ipynb\" target=\"_parent\"><img src=\"https://colab.research.google.com/assets/colab-badge.svg\" alt=\"Open In Colab\"/></a>"
      ]
    },
    {
      "cell_type": "code",
      "metadata": {
        "id": "H1NmER9JrcUX"
      },
      "source": [
        "import numpy as np\n",
        "\n",
        "import glob\n",
        "import os \n",
        "import tensorflow as tf\n",
        "import matplotlib.pyplot as plt\n",
        "from sklearn.model_selection import train_test_split\n",
        "\n",
        "%matplotlib inline"
      ],
      "execution_count": 11,
      "outputs": []
    },
    {
      "cell_type": "markdown",
      "metadata": {
        "id": "iI6zEzJArcUf"
      },
      "source": [
        "# wyczyścić ładnie!\n"
      ]
    },
    {
      "cell_type": "code",
      "metadata": {
        "colab": {
          "base_uri": "https://localhost:8080/",
          "height": 35
        },
        "id": "sItid0kkrcUg",
        "outputId": "41cc566f-1297-4e92-c2f6-36b4e0d9fa9e"
      },
      "source": [
        "tf.__version__"
      ],
      "execution_count": 14,
      "outputs": [
        {
          "output_type": "execute_result",
          "data": {
            "application/vnd.google.colaboratory.intrinsic+json": {
              "type": "string"
            },
            "text/plain": [
              "'2.4.1'"
            ]
          },
          "metadata": {
            "tags": []
          },
          "execution_count": 14
        }
      ]
    },
    {
      "cell_type": "code",
      "metadata": {
        "colab": {
          "base_uri": "https://localhost:8080/"
        },
        "id": "Bv9nULsJrcUh",
        "outputId": "0d66a574-314f-4897-a50e-807a6832af53"
      },
      "source": [
        "def get_file(datapath, dataset_path=None):\n",
        "    if dataset_path:\n",
        "        return np.load(dataset_path + datapath, allow_pickle = True)\n",
        "    else:\n",
        "      return np.load(datapath, allow_pickle=True)\n",
        "\n",
        "dataset_path = \"/content/q3_pcacc_regular_ss.npy\"\n",
        "#data = get_file(\"/q3_pcacc_regular_ss.npy\", dataset_path)\n",
        "data = get_file(dataset_path)\n",
        "\n",
        "\n",
        "print(data[0].shape)"
      ],
      "execution_count": 15,
      "outputs": [
        {
          "output_type": "stream",
          "text": [
            "(2978,)\n"
          ],
          "name": "stdout"
        }
      ]
    },
    {
      "cell_type": "code",
      "metadata": {
        "colab": {
          "base_uri": "https://localhost:8080/",
          "height": 483
        },
        "id": "fctaM-BXrcUi",
        "outputId": "bd1fd9d9-6ceb-4a35-cc26-f32486425cc3"
      },
      "source": [
        "fig = plt.figure(figsize=(8,8))\n",
        "ax2 = fig.add_subplot()\n",
        "ax2.plot([len(x)/3 for x in data[0]])\n",
        "plt.show()"
      ],
      "execution_count": 16,
      "outputs": [
        {
          "output_type": "display_data",
          "data": {
            "image/png": "[encoded data removed]",
            "text/plain": [
              "<Figure size 576x576 with 1 Axes>"
            ]
          },
          "metadata": {
            "tags": [],
            "needs_background": "light"
          }
        }
      ]
    },
    {
      "cell_type": "markdown",
      "metadata": {
        "id": "MJFlmt5DrcUi"
      },
      "source": [
        "# number is divided by 3, as every element in data[0] \n",
        " \n",
        "# is composed of [x1 y1 z1 x2 y2 z2 ... xN yN zN] components\n",
        " \n",
        "# and each carbon has its own set of xyz, so there would be N/3 carbons in an element"
      ]
    },
    {
      "cell_type": "code",
      "metadata": {
        "id": "WvGxR6f8rcUj"
      },
      "source": [
        "def get_cutoff_info(cutoff):\n",
        "    num_outliers = len([1 for x in data[0] if len(x)/3 >= cutoff])\n",
        "    \n",
        "\n",
        "    num_samples = len([1 for x in data[0] if len(x)/3 <= cutoff])\n",
        "    print(f\"\\nnumber samples without outliers with cutoff={cutoff} is: {num_samples}\")\n",
        "    print(f\"number of outliers with cutoff={cutoff} is: {num_outliers}\")\n",
        "    print(f\"percent of data used without outliers: {round(num_samples/len(data[0]) * 100,3)}%\")\n",
        "    print(\"*\"*56)"
      ],
      "execution_count": 17,
      "outputs": []
    },
    {
      "cell_type": "code",
      "metadata": {
        "colab": {
          "base_uri": "https://localhost:8080/"
        },
        "id": "nwOaw-uDrcUj",
        "outputId": "1c9f38a0-d0dc-4581-f639-18aa17c37d98"
      },
      "source": [
        "for cutoff in [400, 500, 550, 600, 650, 700, 800, 1000]:\n",
        "    get_cutoff_info(cutoff)"
      ],
      "execution_count": 18,
      "outputs": [
        {
          "output_type": "stream",
          "text": [
            "\n",
            "number samples without outliers with cutoff=400 is: 2669\n",
            "number of outliers with cutoff=400 is: 313\n",
            "percent of data used without outliers: 89.624%\n",
            "********************************************************\n",
            "\n",
            "number samples without outliers with cutoff=500 is: 2827\n",
            "number of outliers with cutoff=500 is: 154\n",
            "percent of data used without outliers: 94.929%\n",
            "********************************************************\n",
            "\n",
            "number samples without outliers with cutoff=550 is: 2872\n",
            "number of outliers with cutoff=550 is: 107\n",
            "percent of data used without outliers: 96.441%\n",
            "********************************************************\n",
            "\n",
            "number samples without outliers with cutoff=600 is: 2904\n",
            "number of outliers with cutoff=600 is: 74\n",
            "percent of data used without outliers: 97.515%\n",
            "********************************************************\n",
            "\n",
            "number samples without outliers with cutoff=650 is: 2919\n",
            "number of outliers with cutoff=650 is: 59\n",
            "percent of data used without outliers: 98.019%\n",
            "********************************************************\n",
            "\n",
            "number samples without outliers with cutoff=700 is: 2929\n",
            "number of outliers with cutoff=700 is: 49\n",
            "percent of data used without outliers: 98.355%\n",
            "********************************************************\n",
            "\n",
            "number samples without outliers with cutoff=800 is: 2954\n",
            "number of outliers with cutoff=800 is: 24\n",
            "percent of data used without outliers: 99.194%\n",
            "********************************************************\n",
            "\n",
            "number samples without outliers with cutoff=1000 is: 2966\n",
            "number of outliers with cutoff=1000 is: 12\n",
            "percent of data used without outliers: 99.597%\n",
            "********************************************************\n"
          ],
          "name": "stdout"
        }
      ]
    },
    {
      "cell_type": "markdown",
      "metadata": {
        "id": "8J2Sw6nvrcUk"
      },
      "source": [
        "# cutoff 600 seems reasonable, losing less than 2% of the data, while using 98.019%\n",
        "\n",
        "# as it is computationally wise to get rid of outliers, especially such big ones. I will not use them here, for speed purposes\n"
      ]
    },
    {
      "cell_type": "code",
      "metadata": {
        "colab": {
          "base_uri": "https://localhost:8080/"
        },
        "id": "2w4jS0F6rcUk",
        "outputId": "58f3f219-b9b5-44a4-dee9-f283c8cd5c8f"
      },
      "source": [
        "X = [x for x in data[0] if len(x)/3 <= 650]\n",
        "Y = [y for y in data[1] if len(y) <= 650]\n",
        "print(len(X))\n",
        "print(len(Y))"
      ],
      "execution_count": 19,
      "outputs": [
        {
          "output_type": "stream",
          "text": [
            "2919\n",
            "2919\n"
          ],
          "name": "stdout"
        }
      ]
    },
    {
      "cell_type": "code",
      "metadata": {
        "colab": {
          "base_uri": "https://localhost:8080/"
        },
        "id": "nRTiZ0ADrcUl",
        "outputId": "f0585d25-492a-44b2-b7ed-5399fcf59a1d"
      },
      "source": [
        "X_pad = tf.keras.preprocessing.sequence.pad_sequences(X, padding = 'post', dtype='float32')\n",
        "Y_pad = tf.keras.preprocessing.sequence.pad_sequences(Y, padding = 'post')\n",
        "assert(X_pad.shape[0] == Y_pad.shape[0])\n",
        "print(X_pad.shape)\n",
        "print(Y_pad.shape)"
      ],
      "execution_count": 24,
      "outputs": [
        {
          "output_type": "stream",
          "text": [
            "(2919, 1941)\n",
            "(2919, 647)\n"
          ],
          "name": "stdout"
        }
      ]
    },
    {
      "cell_type": "code",
      "metadata": {
        "colab": {
          "base_uri": "https://localhost:8080/"
        },
        "id": "y5AKwkC6rcUl",
        "outputId": "0d3c3845-b100-4fbd-8c8a-cffa3dd76b19"
      },
      "source": [
        "X_pad[0].shape"
      ],
      "execution_count": 25,
      "outputs": [
        {
          "output_type": "execute_result",
          "data": {
            "text/plain": [
              "(1941,)"
            ]
          },
          "metadata": {
            "tags": []
          },
          "execution_count": 25
        }
      ]
    },
    {
      "cell_type": "code",
      "metadata": {
        "id": "YOsfSw2lrcUm"
      },
      "source": [
        "SAMPLE_LENGTH = X_pad.shape[1]\n",
        "NUMBER_OF_LABELS = Y_pad.shape[1] # is basically sample length/3\n",
        "NUMBER_OF_SAMPLES = X_pad.shape[0]\n",
        "NUMBER_OF_FEATURES = 3"
      ],
      "execution_count": 26,
      "outputs": []
    },
    {
      "cell_type": "code",
      "metadata": {
        "colab": {
          "base_uri": "https://localhost:8080/"
        },
        "id": "uYBxuzJVrcUm",
        "outputId": "45a11bbb-e6d0-4cb1-9ba3-3f19551a478f"
      },
      "source": [
        "print(SAMPLE_LENGTH,  NUMBER_OF_LABELS, NUMBER_OF_SAMPLES, NUMBER_OF_FEATURES)\n",
        "print(NUMBER_OF_FEATURES)"
      ],
      "execution_count": 27,
      "outputs": [
        {
          "output_type": "stream",
          "text": [
            "1941 647 2919 3\n",
            "3\n"
          ],
          "name": "stdout"
        }
      ]
    },
    {
      "cell_type": "markdown",
      "metadata": {
        "id": "NK6PL79CrcUn"
      },
      "source": [
        "# for now let's rehape X, so each element in sample has 3 features, that is xyz coordinate"
      ]
    },
    {
      "cell_type": "code",
      "metadata": {
        "colab": {
          "base_uri": "https://localhost:8080/"
        },
        "id": "2ukSlpWWrcUn",
        "outputId": "fb31a2bb-4ae1-4e59-87ef-8d4829b3f383"
      },
      "source": [
        "Y = Y_pad\n",
        "X = np.reshape(X_pad, (NUMBER_OF_SAMPLES, NUMBER_OF_LABELS, NUMBER_OF_FEATURES))\n",
        "print(X[1].shape)\n",
        "print(X[1200].shape)\n",
        "print(X[2544].shape)\n",
        "X[100]"
      ],
      "execution_count": 28,
      "outputs": [
        {
          "output_type": "stream",
          "text": [
            "(647, 3)\n",
            "(647, 3)\n",
            "(647, 3)\n"
          ],
          "name": "stdout"
        },
        {
          "output_type": "execute_result",
          "data": {
            "text/plain": [
              "array([[16.947, 35.566,  4.55 ],\n",
              "       [18.83 , 37.58 ,  1.899],\n",
              "       [17.908, 40.951,  3.422],\n",
              "       ...,\n",
              "       [ 0.   ,  0.   ,  0.   ],\n",
              "       [ 0.   ,  0.   ,  0.   ],\n",
              "       [ 0.   ,  0.   ,  0.   ]], dtype=float32)"
            ]
          },
          "metadata": {
            "tags": []
          },
          "execution_count": 28
        }
      ]
    },
    {
      "cell_type": "code",
      "metadata": {
        "colab": {
          "base_uri": "https://localhost:8080/"
        },
        "id": "SbKappvXrcUn",
        "outputId": "d57f8222-3dc8-45f0-c2fa-9ecc3c8ad40e"
      },
      "source": [
        "X_train, X_test, y_train, y_test = \\\n",
        "    train_test_split(X, Y, test_size=0.2, random_state=1)\n",
        "\n",
        "#20 procent of data is left for trainingX\n",
        "print(X_train.shape)\n",
        "print(y_train.shape)\n",
        "print(X_test.shape)\n",
        "print(y_test.shape)"
      ],
      "execution_count": 67,
      "outputs": [
        {
          "output_type": "stream",
          "text": [
            "(2335, 647, 3)\n",
            "(2335, 647)\n",
            "(584, 647, 3)\n",
            "(584, 647)\n"
          ],
          "name": "stdout"
        }
      ]
    },
    {
      "cell_type": "code",
      "metadata": {
        "colab": {
          "base_uri": "https://localhost:8080/"
        },
        "id": "k-4y6QVkrcUo",
        "outputId": "82b00016-c375-4d19-8d88-ef9a47f1e216"
      },
      "source": [
        "print(\"X train shape:\",X_train.shape)\n",
        "print(\"Y train shape:\",y_train.shape)\n",
        "print(\"X test shape:\",X_test.shape)\n",
        "print(\"Y test shape:\",y_test.shape)"
      ],
      "execution_count": 68,
      "outputs": [
        {
          "output_type": "stream",
          "text": [
            "X train shape: (2335, 647, 3)\n",
            "Y train shape: (2335, 647)\n",
            "X test shape: (584, 647, 3)\n",
            "Y test shape: (584, 647)\n"
          ],
          "name": "stdout"
        }
      ]
    },
    {
      "cell_type": "code",
      "metadata": {
        "id": "I-ADv0ObrcUp"
      },
      "source": [
        "from tensorflow.keras.layers import Embedding,Masking, RNN, LSTM\n",
        "from tensorflow.keras.layers import Conv2D, MaxPooling2D,Input, LocallyConnected2D\n",
        "from tensorflow.keras.layers import Dropout, Flatten, Dense, Activation\n",
        "from tensorflow.keras.models import Sequential"
      ],
      "execution_count": 31,
      "outputs": []
    },
    {
      "cell_type": "code",
      "metadata": {
        "colab": {
          "base_uri": "https://localhost:8080/"
        },
        "id": "gQ9tFLVprcUp",
        "outputId": "4d053959-f4c0-4e67-b03b-b38d55abda76"
      },
      "source": [
        "samples, timesteps, features = NUMBER_OF_SAMPLES, NUMBER_OF_LABELS, NUMBER_OF_FEATURES\n",
        "callback = tf.keras.callbacks.EarlyStopping(monitor='loss', patience=2)\n",
        "\n",
        "inputs_ = tf.keras.Input(shape=( timesteps, features ), dtype='float32')\n",
        "\n",
        "lambda1 = tf.keras.layers.Lambda(lambda x: tf.expand_dims(x,1))(inputs_)\n",
        "\n",
        "\n",
        "mask1 = tf.keras.layers.Masking(mask_value= 0.,\n",
        "                                 input_shape=(timesteps, features))(lambda1)\n",
        "conv1 = tf.keras.layers.Conv2D(filters=16, kernel_size=2,\n",
        "          padding='same', activation = tf.nn.relu)(mask1)\n",
        "\n",
        "\n",
        "pad1 = tf.keras.layers.ZeroPadding2D(padding=(0,4))(conv1)\n",
        "maskl1= Masking(mask_value= 0., input_shape=(timesteps, features))(pad1)\n",
        "\n",
        "locally_connected1= LocallyConnected2D(filters=16, kernel_size=(1,9), padding='valid')(maskl1)\n",
        "\n",
        "\n",
        "\n",
        "mask2 = tf.keras.layers.Masking(mask_value= 0.,\n",
        "                                 input_shape=(timesteps, features))(locally_connected1)\n",
        "conv2 = tf.keras.layers.Conv2D(filters=16, kernel_size=2,\n",
        "          padding='same', activation = tf.nn.relu)(mask2)\n",
        "\n",
        "\n",
        "mask3 = tf.keras.layers.Masking(mask_value= 0.,\n",
        "                                 input_shape=(timesteps, features))(conv2)\n",
        "conv3 = tf.keras.layers.Conv2D(filters=32, kernel_size=2,\n",
        "          padding='same', activation = tf.nn.relu)(mask3)\n",
        "\n",
        "pad2 = tf.keras.layers.ZeroPadding2D(padding=(0,2))(conv3)\n",
        "maskl2= Masking(mask_value= 0., input_shape=(timesteps, features))(pad2)\n",
        "\n",
        "locally_connected2= LocallyConnected2D(filters=32, kernel_size=(1,5), padding='valid')(maskl2)\n",
        "\n",
        "\n",
        "\n",
        "dropout = tf.keras.layers.Dropout(0.2)(locally_connected2)\n",
        "mask4 = tf.keras.layers.Masking(mask_value= 0.,\n",
        "                                 input_shape=(timesteps, features))(dropout)\n",
        "conv4 = tf.keras.layers.Conv2D(filters=64, kernel_size=2,\n",
        "          padding='same', activation = tf.nn.relu)(mask4)\n",
        "\n",
        "\n",
        "mask5 = tf.keras.layers.Masking(mask_value= 0.,\n",
        "                                 input_shape=(timesteps, features))(conv4)\n",
        "conv5 = tf.keras.layers.Conv2D(filters=64, kernel_size=2,\n",
        "          padding='same', activation = tf.nn.relu)(mask5)\n",
        "\n",
        "pad3 = tf.keras.layers.ZeroPadding2D(padding=(0,1))(conv5)\n",
        "maskl3= Masking(mask_value= 0., input_shape=(timesteps, features))(pad3)\n",
        "\n",
        "locally_connected3= LocallyConnected2D(filters=64, kernel_size=(1,3), padding='valid')(maskl3)\n",
        "\n",
        "\n",
        "mask6 = tf.keras.layers.Masking(mask_value= 0.,\n",
        "                                input_shape=(timesteps, features))(locally_connected3)\n",
        "conv6 = tf.keras.layers.Conv2D(filters=64, kernel_size=2,\n",
        "          padding='same', activation = tf.nn.relu)(mask6)\n",
        "\n",
        "\n",
        "mask7 = tf.keras.layers.Masking(mask_value= 0.,\n",
        "                                input_shape=(timesteps, features))(conv6)\n",
        "\n",
        "out = LocallyConnected2D(4, 1 ,activation='softmax')(mask7)\n",
        "\n",
        "model = tf.keras.Model(inputs_, out)\n",
        "\n",
        "model.summary()"
      ],
      "execution_count": 83,
      "outputs": [
        {
          "output_type": "stream",
          "text": [
            "Model: \"model_12\"\n",
            "_________________________________________________________________\n",
            "Layer (type)                 Output Shape              Param #   \n",
            "=================================================================\n",
            "input_26 (InputLayer)        [(None, 647, 3)]          0         \n",
            "_________________________________________________________________\n",
            "lambda_25 (Lambda)           (None, 1, 647, 3)         0         \n",
            "_________________________________________________________________\n",
            "masking_150 (Masking)        (None, 1, 647, 3)         0         \n",
            "_________________________________________________________________\n",
            "conv2d_96 (Conv2D)           (None, 1, 647, 16)        208       \n",
            "_________________________________________________________________\n",
            "zero_padding2d_12 (ZeroPaddi (None, 1, 655, 16)        0         \n",
            "_________________________________________________________________\n",
            "masking_151 (Masking)        (None, 1, 655, 16)        0         \n",
            "_________________________________________________________________\n",
            "locally_connected2d_54 (Loca (None, 1, 647, 16)        1501040   \n",
            "_________________________________________________________________\n",
            "masking_152 (Masking)        (None, 1, 647, 16)        0         \n",
            "_________________________________________________________________\n",
            "conv2d_97 (Conv2D)           (None, 1, 647, 16)        1040      \n",
            "_________________________________________________________________\n",
            "masking_153 (Masking)        (None, 1, 647, 16)        0         \n",
            "_________________________________________________________________\n",
            "conv2d_98 (Conv2D)           (None, 1, 647, 32)        2080      \n",
            "_________________________________________________________________\n",
            "zero_padding2d_13 (ZeroPaddi (None, 1, 651, 32)        0         \n",
            "_________________________________________________________________\n",
            "masking_154 (Masking)        (None, 1, 651, 32)        0         \n",
            "_________________________________________________________________\n",
            "locally_connected2d_55 (Loca (None, 1, 647, 32)        3333344   \n",
            "_________________________________________________________________\n",
            "dropout_18 (Dropout)         (None, 1, 647, 32)        0         \n",
            "_________________________________________________________________\n",
            "masking_155 (Masking)        (None, 1, 647, 32)        0         \n",
            "_________________________________________________________________\n",
            "conv2d_99 (Conv2D)           (None, 1, 647, 64)        8256      \n",
            "_________________________________________________________________\n",
            "masking_156 (Masking)        (None, 1, 647, 64)        0         \n",
            "_________________________________________________________________\n",
            "conv2d_100 (Conv2D)          (None, 1, 647, 64)        16448     \n",
            "_________________________________________________________________\n",
            "zero_padding2d_14 (ZeroPaddi (None, 1, 649, 64)        0         \n",
            "_________________________________________________________________\n",
            "masking_157 (Masking)        (None, 1, 649, 64)        0         \n",
            "_________________________________________________________________\n",
            "locally_connected2d_56 (Loca (None, 1, 647, 64)        7991744   \n",
            "_________________________________________________________________\n",
            "masking_158 (Masking)        (None, 1, 647, 64)        0         \n",
            "_________________________________________________________________\n",
            "conv2d_101 (Conv2D)          (None, 1, 647, 64)        16448     \n",
            "_________________________________________________________________\n",
            "masking_159 (Masking)        (None, 1, 647, 64)        0         \n",
            "_________________________________________________________________\n",
            "locally_connected2d_57 (Loca (None, 1, 647, 4)         168220    \n",
            "=================================================================\n",
            "Total params: 13,038,828\n",
            "Trainable params: 13,038,828\n",
            "Non-trainable params: 0\n",
            "_________________________________________________________________\n"
          ],
          "name": "stdout"
        }
      ]
    },
    {
      "cell_type": "code",
      "metadata": {
        "colab": {
          "base_uri": "https://localhost:8080/"
        },
        "id": "8jwInzoRrcUq",
        "outputId": "7512ba26-24dd-4ee7-a0a7-ebef9d782cd4"
      },
      "source": [
        "for i,l in enumerate(model.layers):\n",
        "    print(f'layer {i}: {l}')\n",
        "    print(f'has input mask: {l.input_mask}')\n",
        "    print(f'has output mask: {l.output_mask}\\n') "
      ],
      "execution_count": 84,
      "outputs": [
        {
          "output_type": "stream",
          "text": [
            "layer 0: <tensorflow.python.keras.engine.input_layer.InputLayer object at 0x7f34eed65cd0>\n",
            "has input mask: None\n",
            "has output mask: None\n",
            "\n",
            "layer 1: <tensorflow.python.keras.layers.core.Lambda object at 0x7f345df0fc10>\n",
            "has input mask: None\n",
            "has output mask: None\n",
            "\n",
            "layer 2: <tensorflow.python.keras.layers.core.Masking object at 0x7f34e5f74290>\n",
            "has input mask: None\n",
            "has output mask: KerasTensor(type_spec=TensorSpec(shape=(None, 1, 647), dtype=tf.bool, name=None), name='masking_150/Squeeze:0')\n",
            "\n",
            "layer 3: <tensorflow.python.keras.layers.convolutional.Conv2D object at 0x7f34eed78c90>\n",
            "has input mask: KerasTensor(type_spec=TensorSpec(shape=(None, 1, 647), dtype=tf.bool, name=None), name='masking_150/Squeeze:0')\n",
            "has output mask: None\n",
            "\n",
            "layer 4: <tensorflow.python.keras.layers.convolutional.ZeroPadding2D object at 0x7f34eed61d90>\n",
            "has input mask: None\n",
            "has output mask: None\n",
            "\n",
            "layer 5: <tensorflow.python.keras.layers.core.Masking object at 0x7f34eed86d50>\n",
            "has input mask: None\n",
            "has output mask: KerasTensor(type_spec=TensorSpec(shape=(None, 1, 655), dtype=tf.bool, name=None), name='masking_151/Squeeze:0')\n",
            "\n",
            "layer 6: <tensorflow.python.keras.layers.local.LocallyConnected2D object at 0x7f34eed87d10>\n",
            "has input mask: KerasTensor(type_spec=TensorSpec(shape=(None, 1, 655), dtype=tf.bool, name=None), name='masking_151/Squeeze:0')\n",
            "has output mask: None\n",
            "\n",
            "layer 7: <tensorflow.python.keras.layers.core.Masking object at 0x7f34eed87450>\n",
            "has input mask: None\n",
            "has output mask: KerasTensor(type_spec=TensorSpec(shape=(None, 1, 647), dtype=tf.bool, name=None), name='masking_152/Squeeze:0')\n",
            "\n",
            "layer 8: <tensorflow.python.keras.layers.convolutional.Conv2D object at 0x7f34e4df3a90>\n",
            "has input mask: KerasTensor(type_spec=TensorSpec(shape=(None, 1, 647), dtype=tf.bool, name=None), name='masking_152/Squeeze:0')\n",
            "has output mask: None\n",
            "\n",
            "layer 9: <tensorflow.python.keras.layers.core.Masking object at 0x7f34e4e1c8d0>\n",
            "has input mask: None\n",
            "has output mask: KerasTensor(type_spec=TensorSpec(shape=(None, 1, 647), dtype=tf.bool, name=None), name='masking_153/Squeeze:0')\n",
            "\n",
            "layer 10: <tensorflow.python.keras.layers.convolutional.Conv2D object at 0x7f34e4df8410>\n",
            "has input mask: KerasTensor(type_spec=TensorSpec(shape=(None, 1, 647), dtype=tf.bool, name=None), name='masking_153/Squeeze:0')\n",
            "has output mask: None\n",
            "\n",
            "layer 11: <tensorflow.python.keras.layers.convolutional.ZeroPadding2D object at 0x7f34e4e1b6d0>\n",
            "has input mask: None\n",
            "has output mask: None\n",
            "\n",
            "layer 12: <tensorflow.python.keras.layers.core.Masking object at 0x7f34e4dc8e10>\n",
            "has input mask: None\n",
            "has output mask: KerasTensor(type_spec=TensorSpec(shape=(None, 1, 651), dtype=tf.bool, name=None), name='masking_154/Squeeze:0')\n",
            "\n",
            "layer 13: <tensorflow.python.keras.layers.local.LocallyConnected2D object at 0x7f34e539a090>\n",
            "has input mask: KerasTensor(type_spec=TensorSpec(shape=(None, 1, 651), dtype=tf.bool, name=None), name='masking_154/Squeeze:0')\n",
            "has output mask: None\n",
            "\n",
            "layer 14: <tensorflow.python.keras.layers.core.Dropout object at 0x7f34f83cf410>\n",
            "has input mask: None\n",
            "has output mask: None\n",
            "\n",
            "layer 15: <tensorflow.python.keras.layers.core.Masking object at 0x7f34e4e25890>\n",
            "has input mask: None\n",
            "has output mask: KerasTensor(type_spec=TensorSpec(shape=(None, 1, 647), dtype=tf.bool, name=None), name='masking_155/Squeeze:0')\n",
            "\n",
            "layer 16: <tensorflow.python.keras.layers.convolutional.Conv2D object at 0x7f34f8408b10>\n",
            "has input mask: KerasTensor(type_spec=TensorSpec(shape=(None, 1, 647), dtype=tf.bool, name=None), name='masking_155/Squeeze:0')\n",
            "has output mask: None\n",
            "\n",
            "layer 17: <tensorflow.python.keras.layers.core.Masking object at 0x7f34f83cd990>\n",
            "has input mask: None\n",
            "has output mask: KerasTensor(type_spec=TensorSpec(shape=(None, 1, 647), dtype=tf.bool, name=None), name='masking_156/Squeeze:0')\n",
            "\n",
            "layer 18: <tensorflow.python.keras.layers.convolutional.Conv2D object at 0x7f34f8408890>\n",
            "has input mask: KerasTensor(type_spec=TensorSpec(shape=(None, 1, 647), dtype=tf.bool, name=None), name='masking_156/Squeeze:0')\n",
            "has output mask: None\n",
            "\n",
            "layer 19: <tensorflow.python.keras.layers.convolutional.ZeroPadding2D object at 0x7f34f83f1f10>\n",
            "has input mask: None\n",
            "has output mask: None\n",
            "\n",
            "layer 20: <tensorflow.python.keras.layers.core.Masking object at 0x7f34f83f1dd0>\n",
            "has input mask: None\n",
            "has output mask: KerasTensor(type_spec=TensorSpec(shape=(None, 1, 649), dtype=tf.bool, name=None), name='masking_157/Squeeze:0')\n",
            "\n",
            "layer 21: <tensorflow.python.keras.layers.local.LocallyConnected2D object at 0x7f34f8405450>\n",
            "has input mask: KerasTensor(type_spec=TensorSpec(shape=(None, 1, 649), dtype=tf.bool, name=None), name='masking_157/Squeeze:0')\n",
            "has output mask: None\n",
            "\n",
            "layer 22: <tensorflow.python.keras.layers.core.Masking object at 0x7f34e52d7d10>\n",
            "has input mask: None\n",
            "has output mask: KerasTensor(type_spec=TensorSpec(shape=(None, 1, 647), dtype=tf.bool, name=None), name='masking_158/Squeeze:0')\n",
            "\n",
            "layer 23: <tensorflow.python.keras.layers.convolutional.Conv2D object at 0x7f350677f390>\n",
            "has input mask: KerasTensor(type_spec=TensorSpec(shape=(None, 1, 647), dtype=tf.bool, name=None), name='masking_158/Squeeze:0')\n",
            "has output mask: None\n",
            "\n",
            "layer 24: <tensorflow.python.keras.layers.core.Masking object at 0x7f34ee139e10>\n",
            "has input mask: None\n",
            "has output mask: KerasTensor(type_spec=TensorSpec(shape=(None, 1, 647), dtype=tf.bool, name=None), name='masking_159/Squeeze:0')\n",
            "\n",
            "layer 25: <tensorflow.python.keras.layers.local.LocallyConnected2D object at 0x7f35067a0d10>\n",
            "has input mask: KerasTensor(type_spec=TensorSpec(shape=(None, 1, 647), dtype=tf.bool, name=None), name='masking_159/Squeeze:0')\n",
            "has output mask: None\n",
            "\n"
          ],
          "name": "stdout"
        }
      ]
    },
    {
      "cell_type": "code",
      "metadata": {
        "id": "eDqs8y1prcUq"
      },
      "source": [
        "y_train = tf.expand_dims(y_train,1)\n",
        "y_test = tf.expand_dims(y_test, 1)"
      ],
      "execution_count": 69,
      "outputs": []
    },
    {
      "cell_type": "code",
      "metadata": {
        "colab": {
          "base_uri": "https://localhost:8080/"
        },
        "id": "fY9Y7rUurcUr",
        "outputId": "dda952da-496d-4866-8a44-969899b3f3d6"
      },
      "source": [
        "print(y_train.shape)\n",
        "print(y_test.shape)"
      ],
      "execution_count": 70,
      "outputs": [
        {
          "output_type": "stream",
          "text": [
            "(2335, 1, 647)\n",
            "(584, 1, 647)\n"
          ],
          "name": "stdout"
        }
      ]
    },
    {
      "cell_type": "code",
      "metadata": {
        "colab": {
          "base_uri": "https://localhost:8080/"
        },
        "id": "hDd3RbFurcUr",
        "outputId": "46c03f16-56b8-411d-9025-403d21a16f97"
      },
      "source": [
        "depth = 4\n",
        "y_train1 = tf.one_hot(y_train,depth)\n",
        "y_test1 = tf.one_hot(y_test, depth)\n",
        "\n",
        "print(y_train1.shape)\n",
        "print(y_test1.shape)"
      ],
      "execution_count": 71,
      "outputs": [
        {
          "output_type": "stream",
          "text": [
            "(2335, 1, 647, 4)\n",
            "(584, 1, 647, 4)\n"
          ],
          "name": "stdout"
        }
      ]
    },
    {
      "cell_type": "code",
      "metadata": {
        "colab": {
          "base_uri": "https://localhost:8080/"
        },
        "id": "dcyYoPvVrcUr",
        "outputId": "2020c596-3357-4584-a371-982d6fb53c7f"
      },
      "source": [
        "y_train1"
      ],
      "execution_count": 72,
      "outputs": [
        {
          "output_type": "execute_result",
          "data": {
            "text/plain": [
              "<tf.Tensor: shape=(2335, 1, 647, 4), dtype=float32, numpy=\n",
              "array([[[[0., 0., 0., 1.],\n",
              "         [0., 0., 0., 1.],\n",
              "         [0., 0., 0., 1.],\n",
              "         ...,\n",
              "         [1., 0., 0., 0.],\n",
              "         [1., 0., 0., 0.],\n",
              "         [1., 0., 0., 0.]]],\n",
              "\n",
              "\n",
              "       [[[0., 0., 0., 1.],\n",
              "         [0., 0., 1., 0.],\n",
              "         [0., 0., 1., 0.],\n",
              "         ...,\n",
              "         [1., 0., 0., 0.],\n",
              "         [1., 0., 0., 0.],\n",
              "         [1., 0., 0., 0.]]],\n",
              "\n",
              "\n",
              "       [[[0., 0., 0., 1.],\n",
              "         [0., 0., 0., 1.],\n",
              "         [0., 0., 0., 1.],\n",
              "         ...,\n",
              "         [1., 0., 0., 0.],\n",
              "         [1., 0., 0., 0.],\n",
              "         [1., 0., 0., 0.]]],\n",
              "\n",
              "\n",
              "       ...,\n",
              "\n",
              "\n",
              "       [[[0., 0., 0., 1.],\n",
              "         [0., 0., 0., 1.],\n",
              "         [0., 0., 0., 1.],\n",
              "         ...,\n",
              "         [1., 0., 0., 0.],\n",
              "         [1., 0., 0., 0.],\n",
              "         [1., 0., 0., 0.]]],\n",
              "\n",
              "\n",
              "       [[[0., 0., 0., 1.],\n",
              "         [0., 0., 0., 1.],\n",
              "         [0., 0., 0., 1.],\n",
              "         ...,\n",
              "         [1., 0., 0., 0.],\n",
              "         [1., 0., 0., 0.],\n",
              "         [1., 0., 0., 0.]]],\n",
              "\n",
              "\n",
              "       [[[0., 0., 0., 1.],\n",
              "         [0., 0., 0., 1.],\n",
              "         [0., 0., 0., 1.],\n",
              "         ...,\n",
              "         [1., 0., 0., 0.],\n",
              "         [1., 0., 0., 0.],\n",
              "         [1., 0., 0., 0.]]]], dtype=float32)>"
            ]
          },
          "metadata": {
            "tags": []
          },
          "execution_count": 72
        }
      ]
    },
    {
      "cell_type": "code",
      "metadata": {
        "scrolled": false,
        "colab": {
          "base_uri": "https://localhost:8080/"
        },
        "id": "d22ftaehrcUs",
        "outputId": "61e8bdcd-b71f-40a8-b9bf-f103776a4920"
      },
      "source": [
        "batch_size = 16\n",
        "epochs= 15\n",
        "\n",
        "model.compile(loss='categorical_crossentropy', optimizer='adam',\n",
        "                 metrics =['accuracy', 'mae'])\n",
        "\n",
        "history = model.fit(X_train, y_train1, batch_size=batch_size, epochs=epochs,\n",
        "          validation_split=0.125, callbacks=callback)"
      ],
      "execution_count": 85,
      "outputs": [
        {
          "output_type": "stream",
          "text": [
            "Epoch 1/15\n",
            "128/128 [==============================] - 89s 247ms/step - loss: 1.0050 - accuracy: 0.7534 - mae: 0.2767 - val_loss: 0.3847 - val_accuracy: 0.7908 - val_mae: 0.1076\n",
            "Epoch 2/15\n",
            "128/128 [==============================] - 15s 117ms/step - loss: 0.3752 - accuracy: 0.8035 - mae: 0.1050 - val_loss: 0.3751 - val_accuracy: 0.8143 - val_mae: 0.1058\n",
            "Epoch 3/15\n",
            "128/128 [==============================] - 16s 124ms/step - loss: 0.3668 - accuracy: 0.8213 - mae: 0.1038 - val_loss: 0.3677 - val_accuracy: 0.8230 - val_mae: 0.1047\n",
            "Epoch 4/15\n",
            "128/128 [==============================] - 16s 126ms/step - loss: 0.3573 - accuracy: 0.8289 - mae: 0.1021 - val_loss: 0.3615 - val_accuracy: 0.8266 - val_mae: 0.1035\n",
            "Epoch 5/15\n",
            "128/128 [==============================] - 15s 117ms/step - loss: 0.3454 - accuracy: 0.8338 - mae: 0.0995 - val_loss: 0.3554 - val_accuracy: 0.8286 - val_mae: 0.1028\n",
            "Epoch 6/15\n",
            "128/128 [==============================] - 15s 117ms/step - loss: 0.3426 - accuracy: 0.8344 - mae: 0.0994 - val_loss: 0.3510 - val_accuracy: 0.8277 - val_mae: 0.1017\n",
            "Epoch 7/15\n",
            "128/128 [==============================] - 15s 121ms/step - loss: 0.3410 - accuracy: 0.8328 - mae: 0.0994 - val_loss: 0.3469 - val_accuracy: 0.8275 - val_mae: 0.1013\n",
            "Epoch 8/15\n",
            "128/128 [==============================] - 15s 118ms/step - loss: 0.3397 - accuracy: 0.8321 - mae: 0.0994 - val_loss: 0.3431 - val_accuracy: 0.8267 - val_mae: 0.1004\n",
            "Epoch 9/15\n",
            "128/128 [==============================] - 16s 122ms/step - loss: 0.3296 - accuracy: 0.8347 - mae: 0.0970 - val_loss: 0.3394 - val_accuracy: 0.8289 - val_mae: 0.0997\n",
            "Epoch 10/15\n",
            "128/128 [==============================] - 15s 115ms/step - loss: 0.3231 - accuracy: 0.8367 - mae: 0.0954 - val_loss: 0.3368 - val_accuracy: 0.8293 - val_mae: 0.0990\n",
            "Epoch 11/15\n",
            "128/128 [==============================] - 15s 115ms/step - loss: 0.3236 - accuracy: 0.8357 - mae: 0.0958 - val_loss: 0.3339 - val_accuracy: 0.8284 - val_mae: 0.0983\n",
            "Epoch 12/15\n",
            "128/128 [==============================] - 15s 119ms/step - loss: 0.3266 - accuracy: 0.8327 - mae: 0.0969 - val_loss: 0.3310 - val_accuracy: 0.8284 - val_mae: 0.0977\n",
            "Epoch 13/15\n",
            "128/128 [==============================] - 15s 120ms/step - loss: 0.3117 - accuracy: 0.8387 - mae: 0.0929 - val_loss: 0.3284 - val_accuracy: 0.8277 - val_mae: 0.0972\n",
            "Epoch 14/15\n",
            "128/128 [==============================] - 15s 121ms/step - loss: 0.3156 - accuracy: 0.8349 - mae: 0.0943 - val_loss: 0.3248 - val_accuracy: 0.8291 - val_mae: 0.0964\n",
            "Epoch 15/15\n",
            "128/128 [==============================] - 15s 121ms/step - loss: 0.3107 - accuracy: 0.8363 - mae: 0.0932 - val_loss: 0.3218 - val_accuracy: 0.8283 - val_mae: 0.0960\n"
          ],
          "name": "stdout"
        }
      ]
    },
    {
      "cell_type": "code",
      "metadata": {
        "colab": {
          "base_uri": "https://localhost:8080/",
          "height": 295
        },
        "id": "UIPsRlTCrcUs",
        "outputId": "8fce54ff-97ce-414f-db29-618302f9a131"
      },
      "source": [
        "plt.plot(history.history['accuracy'])\n",
        "plt.plot(history.history['val_accuracy'])\n",
        "plt.title('model accuracy')\n",
        "plt.ylabel('accuracy')\n",
        "plt.xlabel('epoch')\n",
        "plt.legend(['train', 'val'], loc='upper left')\n",
        "plt.show()"
      ],
      "execution_count": 86,
      "outputs": [
        {
          "output_type": "display_data",
          "data": {
            "image/png": "[encoded data removed]",
            "text/plain": [
              "<Figure size 432x288 with 1 Axes>"
            ]
          },
          "metadata": {
            "tags": [],
            "needs_background": "light"
          }
        }
      ]
    },
    {
      "cell_type": "code",
      "metadata": {
        "scrolled": true,
        "colab": {
          "base_uri": "https://localhost:8080/",
          "height": 312
        },
        "id": "hhFx9O0srcUt",
        "outputId": "8c6628d1-2032-48de-e60c-c549cb6aab08"
      },
      "source": [
        "plt.plot(history.history['loss'])\n",
        "plt.plot(history.history['val_loss'])\n",
        "plt.title('model loss')\n",
        "plt.ylabel('loss')\n",
        "plt.xlabel('epoch')\n",
        "plt.legend(['train', 'val'], loc='upper left')"
      ],
      "execution_count": 87,
      "outputs": [
        {
          "output_type": "execute_result",
          "data": {
            "text/plain": [
              "<matplotlib.legend.Legend at 0x7f3456074190>"
            ]
          },
          "metadata": {
            "tags": []
          },
          "execution_count": 87
        },
        {
          "output_type": "display_data",
          "data": {
            "image/png": "[encoded data removed]",
            "text/plain": [
              "<Figure size 432x288 with 1 Axes>"
            ]
          },
          "metadata": {
            "tags": [],
            "needs_background": "light"
          }
        }
      ]
    },
    {
      "cell_type": "code",
      "metadata": {
        "colab": {
          "base_uri": "https://localhost:8080/"
        },
        "id": "lFO5Y-kPrcUt",
        "outputId": "90b4eebf-e511-4352-9645-61f440c0bf22"
      },
      "source": [
        "X_test.shape"
      ],
      "execution_count": 88,
      "outputs": [
        {
          "output_type": "execute_result",
          "data": {
            "text/plain": [
              "(584, 647, 3)"
            ]
          },
          "metadata": {
            "tags": []
          },
          "execution_count": 88
        }
      ]
    },
    {
      "cell_type": "code",
      "metadata": {
        "colab": {
          "base_uri": "https://localhost:8080/"
        },
        "id": "ZJMf89QDrcUu",
        "outputId": "7b92c515-7e6d-4451-8e1f-b673ef7e8073"
      },
      "source": [
        "X_test = tf.squeeze(X_test)\n",
        "X_test.shape"
      ],
      "execution_count": 41,
      "outputs": [
        {
          "output_type": "execute_result",
          "data": {
            "text/plain": [
              "TensorShape([584, 647, 3])"
            ]
          },
          "metadata": {
            "tags": []
          },
          "execution_count": 41
        }
      ]
    },
    {
      "cell_type": "code",
      "metadata": {
        "scrolled": false,
        "colab": {
          "base_uri": "https://localhost:8080/"
        },
        "id": "IQ158eJarcUu",
        "outputId": "91636761-bace-4d75-fa9b-d80bcc5f9f7a"
      },
      "source": [
        "score = model.evaluate(X_test, y_test1, verbose=1)\n",
        "print(\"Test loss:\", score[0])\n",
        "print(\"Test accuracy:\", score[1])"
      ],
      "execution_count": 89,
      "outputs": [
        {
          "output_type": "stream",
          "text": [
            "19/19 [==============================] - 1s 42ms/step - loss: 0.3060 - accuracy: 0.8398 - mae: 0.0900\n",
            "Test loss: 0.3059849143028259\n",
            "Test accuracy: 0.8397583365440369\n"
          ],
          "name": "stdout"
        }
      ]
    },
    {
      "cell_type": "code",
      "metadata": {
        "colab": {
          "base_uri": "https://localhost:8080/"
        },
        "id": "zANI8lAbrcUu",
        "outputId": "bed489e9-128f-4bd8-b9db-eca9a4f9f520"
      },
      "source": [
        "X_test[86][602:604]"
      ],
      "execution_count": 43,
      "outputs": [
        {
          "output_type": "execute_result",
          "data": {
            "text/plain": [
              "<tf.Tensor: shape=(2, 3), dtype=float32, numpy=\n",
              "array([[-16.184,  28.743,  51.675],\n",
              "       [  0.   ,   0.   ,   0.   ]], dtype=float32)>"
            ]
          },
          "metadata": {
            "tags": []
          },
          "execution_count": 43
        }
      ]
    },
    {
      "cell_type": "code",
      "metadata": {
        "scrolled": false,
        "colab": {
          "base_uri": "https://localhost:8080/"
        },
        "id": "wukn0LhgrcUv",
        "outputId": "7de3b8b2-22ab-4cbb-baaf-5559bb3d144e"
      },
      "source": [
        "k = X_test[86]\n",
        "k = np.expand_dims(k, 0)\n",
        "\n",
        "\n",
        "ynew = model.predict(k)\n",
        "wc = np.argmax(tf.squeeze(ynew), axis=-1)\n",
        "print(wc.shape)"
      ],
      "execution_count": 90,
      "outputs": [
        {
          "output_type": "stream",
          "text": [
            "(647,)\n"
          ],
          "name": "stdout"
        }
      ]
    },
    {
      "cell_type": "code",
      "metadata": {
        "colab": {
          "base_uri": "https://localhost:8080/"
        },
        "id": "BmX3r3HgrcUv",
        "outputId": "5c46caa3-2f2b-4bfe-c767-3453a46b5b14"
      },
      "source": [
        "yt = np.argmax(y_test1[86], axis=2)\n",
        "print(yt.shape)\n",
        "acc = 0\n",
        "for i in range(len(yt[0])):\n",
        "    if wc[i] == yt[0][i]:\n",
        "        acc+=1\n",
        "acc /= len(yt[0])\n",
        "\n",
        "print(acc)"
      ],
      "execution_count": 91,
      "outputs": [
        {
          "output_type": "stream",
          "text": [
            "(1, 647)\n",
            "0.4868624420401855\n"
          ],
          "name": "stdout"
        }
      ]
    },
    {
      "cell_type": "code",
      "metadata": {
        "id": "uAhUL7fYCvci"
      },
      "source": [
        "def appendSpherical_np(xyz):\n",
        "    ptsnew = np.hstack((xyz, np.zeros(xyz.shape)))\n",
        "    xy = xyz[:,0]**2 + xyz[:,1]**2\n",
        "    ptsnew[:,3] = np.sqrt(xy + xyz[:,2]**2)\n",
        "    ptsnew[:,4] = np.arctan2(np.sqrt(xy), xyz[:,2]) # for elevation angle defined from Z-axis down\n",
        "    #ptsnew[:,4] = np.arctan2(xyz[:,2], np.sqrt(xy)) # for elevation angle defined from XY-plane up\n",
        "    ptsnew[:,5] = np.arctan2(xyz[:,1], xyz[:,0])\n",
        "    return ptsnew"
      ],
      "execution_count": 92,
      "outputs": []
    },
    {
      "cell_type": "code",
      "metadata": {
        "colab": {
          "base_uri": "https://localhost:8080/",
          "height": 282
        },
        "id": "tq3daWlLC036",
        "outputId": "473f14cc-3592-4cb3-c847-03ef0f6b8f96"
      },
      "source": [
        "print(appendSpherical_np(np.array([-1,-2,-3])))"
      ],
      "execution_count": 96,
      "outputs": [
        {
          "output_type": "error",
          "ename": "IndexError",
          "evalue": "ignored",
          "traceback": [
            "\u001b[0;31m---------------------------------------------------------------------------\u001b[0m",
            "\u001b[0;31mIndexError\u001b[0m                                Traceback (most recent call last)",
            "\u001b[0;32m<ipython-input-96-7e82d6ffd4b4>\u001b[0m in \u001b[0;36m<module>\u001b[0;34m()\u001b[0m\n\u001b[0;32m----> 1\u001b[0;31m \u001b[0mprint\u001b[0m\u001b[0;34m(\u001b[0m\u001b[0mappendSpherical_np\u001b[0m\u001b[0;34m(\u001b[0m\u001b[0mnp\u001b[0m\u001b[0;34m.\u001b[0m\u001b[0marray\u001b[0m\u001b[0;34m(\u001b[0m\u001b[0;34m[\u001b[0m\u001b[0;34m-\u001b[0m\u001b[0;36m1\u001b[0m\u001b[0;34m,\u001b[0m\u001b[0;34m-\u001b[0m\u001b[0;36m2\u001b[0m\u001b[0;34m,\u001b[0m\u001b[0;34m-\u001b[0m\u001b[0;36m3\u001b[0m\u001b[0;34m]\u001b[0m\u001b[0;34m)\u001b[0m\u001b[0;34m)\u001b[0m\u001b[0;34m)\u001b[0m\u001b[0;34m\u001b[0m\u001b[0;34m\u001b[0m\u001b[0m\n\u001b[0m",
            "\u001b[0;32m<ipython-input-92-399c966d21ea>\u001b[0m in \u001b[0;36mappendSpherical_np\u001b[0;34m(xyz)\u001b[0m\n\u001b[1;32m      1\u001b[0m \u001b[0;32mdef\u001b[0m \u001b[0mappendSpherical_np\u001b[0m\u001b[0;34m(\u001b[0m\u001b[0mxyz\u001b[0m\u001b[0;34m)\u001b[0m\u001b[0;34m:\u001b[0m\u001b[0;34m\u001b[0m\u001b[0;34m\u001b[0m\u001b[0m\n\u001b[1;32m      2\u001b[0m     \u001b[0mptsnew\u001b[0m \u001b[0;34m=\u001b[0m \u001b[0mnp\u001b[0m\u001b[0;34m.\u001b[0m\u001b[0mhstack\u001b[0m\u001b[0;34m(\u001b[0m\u001b[0;34m(\u001b[0m\u001b[0mxyz\u001b[0m\u001b[0;34m,\u001b[0m \u001b[0mnp\u001b[0m\u001b[0;34m.\u001b[0m\u001b[0mzeros\u001b[0m\u001b[0;34m(\u001b[0m\u001b[0mxyz\u001b[0m\u001b[0;34m.\u001b[0m\u001b[0mshape\u001b[0m\u001b[0;34m)\u001b[0m\u001b[0;34m)\u001b[0m\u001b[0;34m)\u001b[0m\u001b[0;34m\u001b[0m\u001b[0;34m\u001b[0m\u001b[0m\n\u001b[0;32m----> 3\u001b[0;31m     \u001b[0mxy\u001b[0m \u001b[0;34m=\u001b[0m \u001b[0mxyz\u001b[0m\u001b[0;34m[\u001b[0m\u001b[0;34m:\u001b[0m\u001b[0;34m,\u001b[0m\u001b[0;36m0\u001b[0m\u001b[0;34m]\u001b[0m\u001b[0;34m**\u001b[0m\u001b[0;36m2\u001b[0m \u001b[0;34m+\u001b[0m \u001b[0mxyz\u001b[0m\u001b[0;34m[\u001b[0m\u001b[0;34m:\u001b[0m\u001b[0;34m,\u001b[0m\u001b[0;36m1\u001b[0m\u001b[0;34m]\u001b[0m\u001b[0;34m**\u001b[0m\u001b[0;36m2\u001b[0m\u001b[0;34m\u001b[0m\u001b[0;34m\u001b[0m\u001b[0m\n\u001b[0m\u001b[1;32m      4\u001b[0m     \u001b[0mptsnew\u001b[0m\u001b[0;34m[\u001b[0m\u001b[0;34m:\u001b[0m\u001b[0;34m,\u001b[0m\u001b[0;36m3\u001b[0m\u001b[0;34m]\u001b[0m \u001b[0;34m=\u001b[0m \u001b[0mnp\u001b[0m\u001b[0;34m.\u001b[0m\u001b[0msqrt\u001b[0m\u001b[0;34m(\u001b[0m\u001b[0mxy\u001b[0m \u001b[0;34m+\u001b[0m \u001b[0mxyz\u001b[0m\u001b[0;34m[\u001b[0m\u001b[0;34m:\u001b[0m\u001b[0;34m,\u001b[0m\u001b[0;36m2\u001b[0m\u001b[0;34m]\u001b[0m\u001b[0;34m**\u001b[0m\u001b[0;36m2\u001b[0m\u001b[0;34m)\u001b[0m\u001b[0;34m\u001b[0m\u001b[0;34m\u001b[0m\u001b[0m\n\u001b[1;32m      5\u001b[0m     \u001b[0mptsnew\u001b[0m\u001b[0;34m[\u001b[0m\u001b[0;34m:\u001b[0m\u001b[0;34m,\u001b[0m\u001b[0;36m4\u001b[0m\u001b[0;34m]\u001b[0m \u001b[0;34m=\u001b[0m \u001b[0mnp\u001b[0m\u001b[0;34m.\u001b[0m\u001b[0marctan2\u001b[0m\u001b[0;34m(\u001b[0m\u001b[0mnp\u001b[0m\u001b[0;34m.\u001b[0m\u001b[0msqrt\u001b[0m\u001b[0;34m(\u001b[0m\u001b[0mxy\u001b[0m\u001b[0;34m)\u001b[0m\u001b[0;34m,\u001b[0m \u001b[0mxyz\u001b[0m\u001b[0;34m[\u001b[0m\u001b[0;34m:\u001b[0m\u001b[0;34m,\u001b[0m\u001b[0;36m2\u001b[0m\u001b[0;34m]\u001b[0m\u001b[0;34m)\u001b[0m \u001b[0;31m# for elevation angle defined from Z-axis down\u001b[0m\u001b[0;34m\u001b[0m\u001b[0;34m\u001b[0m\u001b[0m\n",
            "\u001b[0;31mIndexError\u001b[0m: too many indices for array: array is 1-dimensional, but 2 were indexed"
          ]
        }
      ]
    },
    {
      "cell_type": "code",
      "metadata": {
        "colab": {
          "base_uri": "https://localhost:8080/"
        },
        "id": "CFbJy5gircUv",
        "outputId": "85965b7a-5cd7-4e66-cb0b-c65fb45c0b15"
      },
      "source": [
        "for x,y in zip(yt[0],wc):\n",
        "  print(f\"{x} -> {y}\")"
      ],
      "execution_count": 49,
      "outputs": [
        {
          "output_type": "stream",
          "text": [
            "3 -> 3\n",
            "3 -> 3\n",
            "3 -> 3\n",
            "1 -> 3\n",
            "1 -> 3\n",
            "1 -> 2\n",
            "3 -> 3\n",
            "3 -> 3\n",
            "3 -> 3\n",
            "3 -> 1\n",
            "3 -> 3\n",
            "1 -> 3\n",
            "1 -> 1\n",
            "1 -> 1\n",
            "1 -> 1\n",
            "1 -> 1\n",
            "1 -> 1\n",
            "1 -> 1\n",
            "1 -> 1\n",
            "1 -> 1\n",
            "3 -> 1\n",
            "3 -> 3\n",
            "3 -> 3\n",
            "3 -> 3\n",
            "1 -> 3\n",
            "1 -> 3\n",
            "1 -> 1\n",
            "1 -> 1\n",
            "1 -> 1\n",
            "1 -> 3\n",
            "1 -> 3\n",
            "3 -> 2\n",
            "2 -> 2\n",
            "2 -> 2\n",
            "2 -> 2\n",
            "2 -> 2\n",
            "1 -> 3\n",
            "1 -> 3\n",
            "1 -> 3\n",
            "3 -> 1\n",
            "3 -> 1\n",
            "1 -> 3\n",
            "1 -> 3\n",
            "1 -> 1\n",
            "1 -> 1\n",
            "1 -> 1\n",
            "1 -> 3\n",
            "3 -> 3\n",
            "3 -> 3\n",
            "3 -> 3\n",
            "3 -> 2\n",
            "2 -> 2\n",
            "2 -> 2\n",
            "2 -> 2\n",
            "2 -> 2\n",
            "3 -> 3\n",
            "3 -> 3\n",
            "3 -> 1\n",
            "3 -> 1\n",
            "3 -> 3\n",
            "3 -> 2\n",
            "3 -> 3\n",
            "3 -> 3\n",
            "3 -> 3\n",
            "3 -> 3\n",
            "3 -> 3\n",
            "1 -> 1\n",
            "1 -> 1\n",
            "1 -> 1\n",
            "1 -> 1\n",
            "1 -> 1\n",
            "1 -> 1\n",
            "1 -> 1\n",
            "1 -> 1\n",
            "1 -> 1\n",
            "1 -> 1\n",
            "1 -> 1\n",
            "1 -> 1\n",
            "1 -> 1\n",
            "1 -> 1\n",
            "1 -> 1\n",
            "1 -> 1\n",
            "3 -> 1\n",
            "3 -> 3\n",
            "3 -> 3\n",
            "3 -> 3\n",
            "3 -> 3\n",
            "3 -> 2\n",
            "3 -> 2\n",
            "3 -> 2\n",
            "2 -> 2\n",
            "2 -> 2\n",
            "2 -> 2\n",
            "2 -> 2\n",
            "3 -> 3\n",
            "3 -> 3\n",
            "3 -> 3\n",
            "3 -> 3\n",
            "3 -> 1\n",
            "3 -> 1\n",
            "3 -> 3\n",
            "3 -> 3\n",
            "3 -> 3\n",
            "3 -> 3\n",
            "3 -> 3\n",
            "3 -> 3\n",
            "3 -> 3\n",
            "3 -> 3\n",
            "3 -> 1\n",
            "3 -> 1\n",
            "3 -> 3\n",
            "1 -> 3\n",
            "1 -> 1\n",
            "1 -> 1\n",
            "1 -> 1\n",
            "1 -> 1\n",
            "1 -> 3\n",
            "1 -> 3\n",
            "3 -> 3\n",
            "3 -> 1\n",
            "1 -> 1\n",
            "1 -> 1\n",
            "1 -> 1\n",
            "1 -> 1\n",
            "1 -> 1\n",
            "1 -> 1\n",
            "1 -> 1\n",
            "1 -> 1\n",
            "1 -> 1\n",
            "1 -> 1\n",
            "1 -> 1\n",
            "1 -> 1\n",
            "1 -> 1\n",
            "1 -> 1\n",
            "1 -> 1\n",
            "1 -> 1\n",
            "3 -> 1\n",
            "3 -> 3\n",
            "3 -> 3\n",
            "3 -> 3\n",
            "3 -> 3\n",
            "2 -> 3\n",
            "2 -> 3\n",
            "3 -> 1\n",
            "3 -> 1\n",
            "3 -> 1\n",
            "2 -> 1\n",
            "3 -> 1\n",
            "3 -> 3\n",
            "3 -> 3\n",
            "3 -> 3\n",
            "3 -> 3\n",
            "3 -> 3\n",
            "3 -> 3\n",
            "3 -> 1\n",
            "3 -> 1\n",
            "3 -> 1\n",
            "3 -> 1\n",
            "1 -> 1\n",
            "1 -> 1\n",
            "1 -> 1\n",
            "3 -> 1\n",
            "3 -> 1\n",
            "3 -> 1\n",
            "3 -> 1\n",
            "3 -> 1\n",
            "1 -> 1\n",
            "1 -> 1\n",
            "1 -> 1\n",
            "1 -> 1\n",
            "1 -> 1\n",
            "1 -> 1\n",
            "1 -> 1\n",
            "1 -> 1\n",
            "1 -> 1\n",
            "1 -> 1\n",
            "1 -> 1\n",
            "1 -> 1\n",
            "1 -> 1\n",
            "1 -> 1\n",
            "1 -> 1\n",
            "3 -> 1\n",
            "3 -> 3\n",
            "3 -> 1\n",
            "3 -> 1\n",
            "3 -> 1\n",
            "3 -> 3\n",
            "3 -> 3\n",
            "3 -> 3\n",
            "3 -> 3\n",
            "3 -> 3\n",
            "3 -> 3\n",
            "3 -> 3\n",
            "3 -> 2\n",
            "3 -> 2\n",
            "3 -> 2\n",
            "3 -> 2\n",
            "3 -> 3\n",
            "3 -> 3\n",
            "3 -> 3\n",
            "3 -> 1\n",
            "2 -> 1\n",
            "3 -> 1\n",
            "2 -> 1\n",
            "2 -> 1\n",
            "2 -> 1\n",
            "2 -> 1\n",
            "2 -> 3\n",
            "3 -> 2\n",
            "3 -> 3\n",
            "1 -> 1\n",
            "1 -> 1\n",
            "1 -> 1\n",
            "3 -> 1\n",
            "1 -> 3\n",
            "1 -> 3\n",
            "1 -> 3\n",
            "3 -> 3\n",
            "3 -> 3\n",
            "3 -> 3\n",
            "3 -> 3\n",
            "2 -> 1\n",
            "2 -> 1\n",
            "3 -> 1\n",
            "3 -> 1\n",
            "3 -> 1\n",
            "1 -> 3\n",
            "1 -> 1\n",
            "1 -> 1\n",
            "1 -> 1\n",
            "1 -> 1\n",
            "1 -> 1\n",
            "1 -> 1\n",
            "1 -> 1\n",
            "3 -> 1\n",
            "1 -> 1\n",
            "1 -> 1\n",
            "1 -> 1\n",
            "1 -> 1\n",
            "1 -> 1\n",
            "1 -> 1\n",
            "1 -> 1\n",
            "1 -> 1\n",
            "3 -> 3\n",
            "3 -> 3\n",
            "3 -> 3\n",
            "3 -> 3\n",
            "2 -> 3\n",
            "2 -> 3\n",
            "2 -> 1\n",
            "2 -> 1\n",
            "3 -> 1\n",
            "3 -> 1\n",
            "3 -> 3\n",
            "2 -> 3\n",
            "2 -> 3\n",
            "3 -> 3\n",
            "3 -> 3\n",
            "2 -> 3\n",
            "2 -> 3\n",
            "1 -> 3\n",
            "1 -> 3\n",
            "1 -> 3\n",
            "3 -> 3\n",
            "1 -> 3\n",
            "1 -> 3\n",
            "1 -> 1\n",
            "1 -> 1\n",
            "1 -> 1\n",
            "1 -> 1\n",
            "1 -> 1\n",
            "1 -> 1\n",
            "1 -> 3\n",
            "3 -> 3\n",
            "3 -> 3\n",
            "3 -> 3\n",
            "3 -> 3\n",
            "3 -> 2\n",
            "3 -> 2\n",
            "3 -> 3\n",
            "2 -> 3\n",
            "2 -> 3\n",
            "2 -> 2\n",
            "3 -> 3\n",
            "3 -> 3\n",
            "3 -> 3\n",
            "3 -> 1\n",
            "3 -> 1\n",
            "3 -> 1\n",
            "1 -> 1\n",
            "1 -> 1\n",
            "1 -> 1\n",
            "3 -> 1\n",
            "3 -> 1\n",
            "3 -> 1\n",
            "3 -> 1\n",
            "3 -> 1\n",
            "3 -> 1\n",
            "3 -> 1\n",
            "1 -> 1\n",
            "1 -> 1\n",
            "1 -> 1\n",
            "1 -> 1\n",
            "1 -> 1\n",
            "1 -> 1\n",
            "1 -> 1\n",
            "1 -> 1\n",
            "1 -> 1\n",
            "1 -> 3\n",
            "1 -> 3\n",
            "3 -> 3\n",
            "3 -> 3\n",
            "3 -> 3\n",
            "2 -> 3\n",
            "2 -> 3\n",
            "2 -> 3\n",
            "3 -> 3\n",
            "3 -> 3\n",
            "3 -> 3\n",
            "3 -> 1\n",
            "1 -> 3\n",
            "1 -> 1\n",
            "1 -> 1\n",
            "1 -> 3\n",
            "1 -> 1\n",
            "1 -> 1\n",
            "1 -> 1\n",
            "1 -> 1\n",
            "1 -> 3\n",
            "1 -> 3\n",
            "1 -> 3\n",
            "1 -> 3\n",
            "1 -> 3\n",
            "3 -> 3\n",
            "3 -> 3\n",
            "3 -> 1\n",
            "3 -> 1\n",
            "3 -> 1\n",
            "1 -> 1\n",
            "1 -> 1\n",
            "1 -> 3\n",
            "1 -> 1\n",
            "1 -> 1\n",
            "1 -> 3\n",
            "1 -> 1\n",
            "1 -> 1\n",
            "1 -> 1\n",
            "1 -> 1\n",
            "1 -> 1\n",
            "1 -> 1\n",
            "1 -> 1\n",
            "1 -> 1\n",
            "1 -> 1\n",
            "1 -> 1\n",
            "1 -> 1\n",
            "3 -> 1\n",
            "3 -> 1\n",
            "3 -> 1\n",
            "3 -> 1\n",
            "3 -> 1\n",
            "3 -> 3\n",
            "3 -> 3\n",
            "3 -> 3\n",
            "3 -> 3\n",
            "3 -> 3\n",
            "1 -> 3\n",
            "1 -> 3\n",
            "1 -> 3\n",
            "1 -> 3\n",
            "1 -> 3\n",
            "1 -> 3\n",
            "3 -> 3\n",
            "3 -> 3\n",
            "3 -> 3\n",
            "1 -> 3\n",
            "1 -> 1\n",
            "1 -> 1\n",
            "1 -> 1\n",
            "1 -> 1\n",
            "1 -> 1\n",
            "1 -> 1\n",
            "1 -> 1\n",
            "1 -> 1\n",
            "1 -> 1\n",
            "1 -> 1\n",
            "1 -> 1\n",
            "1 -> 1\n",
            "1 -> 3\n",
            "3 -> 3\n",
            "2 -> 3\n",
            "2 -> 3\n",
            "2 -> 3\n",
            "2 -> 3\n",
            "2 -> 3\n",
            "3 -> 3\n",
            "3 -> 1\n",
            "3 -> 1\n",
            "3 -> 3\n",
            "3 -> 3\n",
            "3 -> 3\n",
            "3 -> 1\n",
            "3 -> 1\n",
            "3 -> 3\n",
            "3 -> 3\n",
            "3 -> 3\n",
            "3 -> 1\n",
            "3 -> 3\n",
            "3 -> 3\n",
            "3 -> 3\n",
            "3 -> 3\n",
            "3 -> 3\n",
            "2 -> 3\n",
            "2 -> 3\n",
            "2 -> 2\n",
            "2 -> 3\n",
            "2 -> 3\n",
            "3 -> 3\n",
            "3 -> 3\n",
            "3 -> 3\n",
            "3 -> 3\n",
            "3 -> 3\n",
            "3 -> 3\n",
            "1 -> 2\n",
            "1 -> 1\n",
            "1 -> 1\n",
            "1 -> 1\n",
            "1 -> 3\n",
            "3 -> 3\n",
            "3 -> 3\n",
            "3 -> 3\n",
            "3 -> 3\n",
            "3 -> 3\n",
            "3 -> 3\n",
            "3 -> 3\n",
            "3 -> 3\n",
            "3 -> 3\n",
            "3 -> 3\n",
            "3 -> 3\n",
            "3 -> 3\n",
            "3 -> 3\n",
            "3 -> 3\n",
            "3 -> 3\n",
            "3 -> 2\n",
            "3 -> 2\n",
            "2 -> 2\n",
            "3 -> 2\n",
            "1 -> 2\n",
            "1 -> 3\n",
            "1 -> 1\n",
            "1 -> 1\n",
            "1 -> 1\n",
            "1 -> 3\n",
            "1 -> 3\n",
            "1 -> 3\n",
            "3 -> 3\n",
            "3 -> 3\n",
            "3 -> 3\n",
            "3 -> 3\n",
            "3 -> 3\n",
            "2 -> 3\n",
            "2 -> 3\n",
            "2 -> 3\n",
            "2 -> 3\n",
            "2 -> 3\n",
            "3 -> 3\n",
            "3 -> 3\n",
            "3 -> 3\n",
            "3 -> 1\n",
            "1 -> 1\n",
            "1 -> 1\n",
            "1 -> 1\n",
            "1 -> 1\n",
            "1 -> 1\n",
            "1 -> 1\n",
            "3 -> 3\n",
            "3 -> 3\n",
            "3 -> 3\n",
            "3 -> 3\n",
            "3 -> 3\n",
            "2 -> 3\n",
            "2 -> 1\n",
            "2 -> 1\n",
            "2 -> 3\n",
            "2 -> 2\n",
            "2 -> 3\n",
            "3 -> 3\n",
            "3 -> 3\n",
            "3 -> 3\n",
            "3 -> 3\n",
            "3 -> 3\n",
            "1 -> 3\n",
            "1 -> 3\n",
            "1 -> 3\n",
            "1 -> 1\n",
            "3 -> 1\n",
            "3 -> 1\n",
            "3 -> 1\n",
            "3 -> 1\n",
            "3 -> 2\n",
            "3 -> 3\n",
            "3 -> 1\n",
            "3 -> 3\n",
            "3 -> 3\n",
            "3 -> 3\n",
            "3 -> 3\n",
            "1 -> 3\n",
            "1 -> 1\n",
            "1 -> 1\n",
            "1 -> 1\n",
            "1 -> 3\n",
            "1 -> 3\n",
            "1 -> 3\n",
            "1 -> 3\n",
            "3 -> 3\n",
            "3 -> 3\n",
            "3 -> 3\n",
            "3 -> 3\n",
            "2 -> 3\n",
            "2 -> 3\n",
            "2 -> 3\n",
            "2 -> 3\n",
            "2 -> 2\n",
            "2 -> 2\n",
            "3 -> 2\n",
            "3 -> 2\n",
            "3 -> 3\n",
            "3 -> 3\n",
            "3 -> 3\n",
            "3 -> 3\n",
            "3 -> 3\n",
            "1 -> 3\n",
            "1 -> 3\n",
            "1 -> 3\n",
            "1 -> 1\n",
            "1 -> 2\n",
            "1 -> 3\n",
            "3 -> 3\n",
            "3 -> 3\n",
            "2 -> 3\n",
            "2 -> 3\n",
            "2 -> 3\n",
            "2 -> 3\n",
            "2 -> 3\n",
            "2 -> 3\n",
            "3 -> 3\n",
            "3 -> 3\n",
            "3 -> 2\n",
            "3 -> 2\n",
            "2 -> 3\n",
            "3 -> 3\n",
            "1 -> 1\n",
            "1 -> 1\n",
            "1 -> 1\n",
            "1 -> 1\n",
            "1 -> 1\n",
            "1 -> 1\n",
            "1 -> 1\n",
            "3 -> 3\n",
            "3 -> 3\n",
            "3 -> 1\n",
            "3 -> 3\n",
            "3 -> 1\n",
            "3 -> 1\n",
            "3 -> 1\n",
            "3 -> 1\n",
            "3 -> 3\n",
            "3 -> 3\n",
            "3 -> 3\n",
            "3 -> 3\n",
            "3 -> 3\n",
            "2 -> 3\n",
            "3 -> 1\n",
            "3 -> 3\n",
            "3 -> 3\n",
            "1 -> 1\n",
            "1 -> 1\n",
            "1 -> 1\n",
            "3 -> 1\n",
            "3 -> 3\n",
            "3 -> 3\n",
            "3 -> 3\n",
            "3 -> 1\n",
            "3 -> 1\n",
            "3 -> 1\n",
            "3 -> 1\n",
            "3 -> 3\n",
            "3 -> 3\n",
            "3 -> 3\n",
            "3 -> 2\n",
            "3 -> 3\n",
            "2 -> 1\n",
            "3 -> 1\n",
            "3 -> 2\n",
            "3 -> 2\n",
            "3 -> 3\n",
            "3 -> 2\n",
            "2 -> 1\n",
            "3 -> 1\n",
            "3 -> 3\n",
            "3 -> 3\n",
            "3 -> 3\n",
            "3 -> 3\n",
            "3 -> 0\n",
            "0 -> 0\n",
            "0 -> 0\n",
            "0 -> 0\n",
            "0 -> 0\n",
            "0 -> 0\n",
            "0 -> 0\n",
            "0 -> 0\n",
            "0 -> 0\n",
            "0 -> 0\n",
            "0 -> 0\n",
            "0 -> 0\n",
            "0 -> 0\n",
            "0 -> 0\n",
            "0 -> 0\n",
            "0 -> 0\n",
            "0 -> 0\n",
            "0 -> 0\n",
            "0 -> 0\n",
            "0 -> 0\n",
            "0 -> 0\n",
            "0 -> 0\n",
            "0 -> 0\n",
            "0 -> 0\n",
            "0 -> 0\n",
            "0 -> 0\n",
            "0 -> 0\n",
            "0 -> 0\n",
            "0 -> 0\n",
            "0 -> 0\n",
            "0 -> 0\n",
            "0 -> 0\n",
            "0 -> 0\n",
            "0 -> 0\n",
            "0 -> 0\n",
            "0 -> 0\n",
            "0 -> 0\n",
            "0 -> 0\n",
            "0 -> 0\n",
            "0 -> 0\n",
            "0 -> 0\n",
            "0 -> 0\n",
            "0 -> 0\n",
            "0 -> 0\n",
            "0 -> 0\n"
          ],
          "name": "stdout"
        }
      ]
    }
  ]
}